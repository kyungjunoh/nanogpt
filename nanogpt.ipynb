{
 "cells": [
  {
   "cell_type": "code",
   "execution_count": 4,
   "id": "ab4bc81b",
   "metadata": {},
   "outputs": [
    {
     "name": "stdout",
     "output_type": "stream",
     "text": [
      "Downloading input.txt...\n",
      "Downloaded input.txt successfully!\n",
      "File size: 1,115,394 bytes\n",
      "Downloaded input.txt successfully!\n",
      "File size: 1,115,394 bytes\n"
     ]
    }
   ],
   "source": [
    "# We always start with a dataset to train on. Let's download the tiny shakespeare dataset\n",
    "# Method 1: Using Python's urllib (recommended for cross-platform compatibility)\n",
    "import urllib.request\n",
    "import os\n",
    "\n",
    "url = 'https://raw.githubusercontent.com/karpathy/char-rnn/master/data/tinyshakespeare/input.txt'\n",
    "filename = 'input.txt'\n",
    "\n",
    "# Check if file already exists\n",
    "if not os.path.exists(filename):\n",
    "    print(f\"Downloading {filename}...\")\n",
    "    urllib.request.urlretrieve(url, filename)\n",
    "    print(f\"Downloaded {filename} successfully!\")\n",
    "else:\n",
    "    print(f\"{filename} already exists.\")\n",
    "\n",
    "# Check file size to confirm download\n",
    "if os.path.exists(filename):\n",
    "    file_size = os.path.getsize(filename)\n",
    "    print(f\"File size: {file_size:,} bytes\")"
   ]
  },
  {
   "cell_type": "code",
   "execution_count": 5,
   "id": "fe8affb0",
   "metadata": {},
   "outputs": [],
   "source": [
    "# read it in to inspect it\n",
    "with open('input.txt', 'r', encoding='utf-8') as f:\n",
    "    text = f.read()"
   ]
  },
  {
   "cell_type": "code",
   "execution_count": 6,
   "id": "9605e6a5",
   "metadata": {},
   "outputs": [
    {
     "name": "stdout",
     "output_type": "stream",
     "text": [
      "Length of dataset in characters: 1,115,394\n"
     ]
    }
   ],
   "source": [
    "print(f\"Length of dataset in characters: {len(text):,}\")"
   ]
  },
  {
   "cell_type": "code",
   "execution_count": 7,
   "id": "4eb49491",
   "metadata": {},
   "outputs": [
    {
     "name": "stdout",
     "output_type": "stream",
     "text": [
      "First Citizen:\n",
      "Before we proceed any further, hear me speak.\n",
      "\n",
      "All:\n",
      "Speak, speak.\n",
      "\n",
      "First Citizen:\n",
      "You are all resolved rather to die than to famish?\n",
      "\n",
      "All:\n",
      "Resolved. resolved.\n",
      "\n",
      "First Citizen:\n",
      "First, you know Caius Marcius is chief enemy to the people.\n",
      "\n",
      "All:\n",
      "We know't, we know't.\n",
      "\n",
      "First Citizen:\n",
      "Let us kill him, and we'll have corn at our own price.\n",
      "Is't a verdict?\n",
      "\n",
      "All:\n",
      "No more talking on't; let it be done: away, away!\n",
      "\n",
      "Second Citizen:\n",
      "One word, good citizens.\n",
      "\n",
      "First Citizen:\n",
      "We are accounted poor citizens, the patricians good.\n",
      "What authority surfeits on would relieve us: if they\n",
      "would yield us but the superfluity, while it were\n",
      "wholesome, we might guess they relieved us humanely;\n",
      "but they think we are too dear: the leanness that\n",
      "afflicts us, the object of our misery, is as an\n",
      "inventory to particularise their abundance; our\n",
      "sufferance is a gain to them Let us revenge this with\n",
      "our pikes, ere we become rakes: for the gods know I\n",
      "speak this in hunger for bread, not in thirst for revenge.\n",
      "\n",
      "\n"
     ]
    }
   ],
   "source": [
    "print(text[:1000])  # Print the first 1000 characters to inspect the dataset"
   ]
  },
  {
   "cell_type": "code",
   "execution_count": 9,
   "id": "d3999321",
   "metadata": {},
   "outputs": [
    {
     "name": "stdout",
     "output_type": "stream",
     "text": [
      "Unique characters: \n",
      " !$&',-.3:;?ABCDEFGHIJKLMNOPQRSTUVWXYZabcdefghijklmnopqrstuvwxyz\n",
      "Vocab size: 65\n"
     ]
    }
   ],
   "source": [
    "chars = sorted(list(set(text)))\n",
    "vocab_size = len(chars)\n",
    "print(f\"Unique characters: {''.join(chars)}\")\n",
    "print(f\"Vocab size: {vocab_size}\")"
   ]
  },
  {
   "cell_type": "code",
   "execution_count": null,
   "id": "9ef5e07b",
   "metadata": {},
   "outputs": [
    {
     "name": "stdout",
     "output_type": "stream",
     "text": [
      "String to index mapping: {'\\n': 0, ' ': 1, '!': 2, '$': 3, '&': 4, \"'\": 5, ',': 6, '-': 7, '.': 8, '3': 9, ':': 10, ';': 11, '?': 12, 'A': 13, 'B': 14, 'C': 15, 'D': 16, 'E': 17, 'F': 18, 'G': 19, 'H': 20, 'I': 21, 'J': 22, 'K': 23, 'L': 24, 'M': 25, 'N': 26, 'O': 27, 'P': 28, 'Q': 29, 'R': 30, 'S': 31, 'T': 32, 'U': 33, 'V': 34, 'W': 35, 'X': 36, 'Y': 37, 'Z': 38, 'a': 39, 'b': 40, 'c': 41, 'd': 42, 'e': 43, 'f': 44, 'g': 45, 'h': 46, 'i': 47, 'j': 48, 'k': 49, 'l': 50, 'm': 51, 'n': 52, 'o': 53, 'p': 54, 'q': 55, 'r': 56, 's': 57, 't': 58, 'u': 59, 'v': 60, 'w': 61, 'x': 62, 'y': 63, 'z': 64}\n",
      "Index to string mapping: {0: '\\n', 1: ' ', 2: '!', 3: '$', 4: '&', 5: \"'\", 6: ',', 7: '-', 8: '.', 9: '3', 10: ':', 11: ';', 12: '?', 13: 'A', 14: 'B', 15: 'C', 16: 'D', 17: 'E', 18: 'F', 19: 'G', 20: 'H', 21: 'I', 22: 'J', 23: 'K', 24: 'L', 25: 'M', 26: 'N', 27: 'O', 28: 'P', 29: 'Q', 30: 'R', 31: 'S', 32: 'T', 33: 'U', 34: 'V', 35: 'W', 36: 'X', 37: 'Y', 38: 'Z', 39: 'a', 40: 'b', 41: 'c', 42: 'd', 43: 'e', 44: 'f', 45: 'g', 46: 'h', 47: 'i', 48: 'j', 49: 'k', 50: 'l', 51: 'm', 52: 'n', 53: 'o', 54: 'p', 55: 'q', 56: 'r', 57: 's', 58: 't', 59: 'u', 60: 'v', 61: 'w', 62: 'x', 63: 'y', 64: 'z'}\n",
      "Encode 'Hello': [20, 43, 50, 50, 53]\n",
      "Hello\n"
     ]
    }
   ],
   "source": [
    "stoi = {ch: i for i, ch in enumerate(chars)}  # string to index\n",
    "itos = {i: ch for i, ch in enumerate(chars)}  # index to string\n",
    "print(f\"String to index mapping: {stoi}\")\n",
    "print(f\"Index to string mapping: {itos}\")\n",
    "encode = lambda s: [stoi[c] for c in s]  # 입력받은 문자열 s를 c에 해당하는 인덱스로 변환\n",
    "decode = lambda l: ''.join([itos[i] for i in l])  # 입력받은 인덱스 l을 해당하는 문자열로 변환\n",
    "print(f\"Encode 'Hello': {encode('Hello')}\")\n",
    "print(decode(encode('Hello')))  # should print 'Hello'"
   ]
  },
  {
   "cell_type": "code",
   "execution_count": 13,
   "id": "9a2abdce",
   "metadata": {},
   "outputs": [
    {
     "name": "stdout",
     "output_type": "stream",
     "text": [
      "Data tensor shape: torch.Size([1115394])\n"
     ]
    }
   ],
   "source": [
    "import torch\n",
    "data = torch.tensor(encode(text), dtype=torch.long)  # convert to tensor\n",
    "print(f\"Data tensor shape: {data.shape}\")"
   ]
  },
  {
   "cell_type": "code",
   "execution_count": 18,
   "id": "4c5503cd",
   "metadata": {},
   "outputs": [
    {
     "name": "stdout",
     "output_type": "stream",
     "text": [
      "Train data shape: torch.Size([1003854])\n",
      "Validation data shape: torch.Size([111540])\n"
     ]
    }
   ],
   "source": [
    "n = int(0.9 * len(data))  # first 90% for training, rest for validation\n",
    "train_data = data[:n]\n",
    "val_data = data[n:]\n",
    "print(f\"Train data shape: {train_data.shape}\")\n",
    "print(f\"Validation data shape: {val_data.shape}\")"
   ]
  },
  {
   "cell_type": "code",
   "execution_count": 19,
   "id": "2b6c7c65",
   "metadata": {},
   "outputs": [
    {
     "data": {
      "text/plain": [
       "tensor([18, 47, 56, 57, 58,  1, 15, 47, 58])"
      ]
     },
     "execution_count": 19,
     "metadata": {},
     "output_type": "execute_result"
    }
   ],
   "source": [
    "block_size = 8  # context length: how many characters to predict\n",
    "train_data[:block_size +1]"
   ]
  },
  {
   "cell_type": "code",
   "execution_count": 21,
   "id": "47882199",
   "metadata": {},
   "outputs": [
    {
     "name": "stdout",
     "output_type": "stream",
     "text": [
      "tensor([18])\n",
      "tensor(47)\n",
      "tensor([18, 47])\n",
      "tensor(56)\n",
      "tensor([18, 47, 56])\n",
      "tensor(57)\n",
      "tensor([18, 47, 56, 57])\n",
      "tensor(58)\n",
      "tensor([18, 47, 56, 57, 58])\n",
      "tensor(1)\n",
      "tensor([18, 47, 56, 57, 58,  1])\n",
      "tensor(15)\n",
      "tensor([18, 47, 56, 57, 58,  1, 15])\n",
      "tensor(47)\n",
      "tensor([18, 47, 56, 57, 58,  1, 15, 47])\n",
      "tensor(58)\n"
     ]
    }
   ],
   "source": [
    "x = train_data[:block_size]  # input context\n",
    "y = train_data[1:block_size + 1]  # targets are the same but\n",
    "for i in range(block_size):\n",
    "    print(x[:i+1])\n",
    "    print(y[i])  # should be the next character in the sequence"
   ]
  },
  {
   "cell_type": "code",
   "execution_count": 26,
   "id": "2601c63f",
   "metadata": {},
   "outputs": [
    {
     "name": "stdout",
     "output_type": "stream",
     "text": [
      "Batch x shape: torch.Size([4, 8])\n",
      "Batch y shape: torch.Size([4, 8])\n",
      "Batch x: tensor([[24, 43, 58,  5, 57,  1, 46, 43],\n",
      "        [44, 53, 56,  1, 58, 46, 39, 58],\n",
      "        [52, 58,  1, 58, 46, 39, 58,  1],\n",
      "        [25, 17, 27, 10,  0, 21,  1, 54]])\n",
      "Batch y: tensor([[43, 58,  5, 57,  1, 46, 43, 39],\n",
      "        [53, 56,  1, 58, 46, 39, 58,  1],\n",
      "        [58,  1, 58, 46, 39, 58,  1, 46],\n",
      "        [17, 27, 10,  0, 21,  1, 54, 39]])\n"
     ]
    }
   ],
   "source": [
    "torch.manual_seed(1337)  # for reproducibility\n",
    "batch_size = 4  # how many independent sequences will we process in parallel?\n",
    "block_size = 8  # what is the maximum context length for predictions?\n",
    "\n",
    "def get_batch(split):\n",
    "    data = train_data if split == 'train' else val_data\n",
    "    ix = torch.randint(len(data)-block_size,(batch_size,))  # random starting indices for each sequence in the batch\n",
    "    x = torch.stack([data[i:i+block_size] for i in ix])\n",
    "    y = torch.stack([data[i+1:i+block_size+1] for i in ix])\n",
    "    return x, y\n",
    "\n",
    "xb, yb = get_batch('train')\n",
    "print(\"Batch x shape:\", xb.shape)\n",
    "print(\"Batch y shape:\", yb.shape)\n",
    "print(\"Batch x:\", xb)\n",
    "print(\"Batch y:\", yb)"
   ]
  },
  {
   "cell_type": "code",
   "execution_count": null,
   "id": "a20378a3",
   "metadata": {},
   "outputs": [
    {
     "name": "stdout",
     "output_type": "stream",
     "text": [
      "Logits shape: torch.Size([32, 65])\n",
      "Loss: tensor(4.8786, grad_fn=<NllLossBackward0>)\n",
      "\n",
      "Sr?qP-QWktXoL&jLDJgOLVz'RIoDqHdhsV&vLLxatjscMpwLERSPyao.qfzs$Ys$zF-w,;eEkzxjgCKFChs!iWW.ObzDnxA Ms$3\n"
     ]
    }
   ],
   "source": [
    "import torch \n",
    "import torch.nn as nn\n",
    "import torch.nn.functional as F\n",
    "torch.manual_seed(1337)  # for reproducibility\n",
    "\n",
    "class BigramLanguageModel(nn.Module):\n",
    "    def __init__(self, vocab_size):\n",
    "        super().__init__()\n",
    "        self.token_embedding_table = nn.Embedding(vocab_size, vocab_size)\n",
    "\n",
    "    def forward(self, idx, targets=None):\n",
    "\n",
    "        logits = self.token_embedding_table(idx)  # (batch_size, block_size, vocab_size) -> (B,T,C)\n",
    "\n",
    "        if targets is None:\n",
    "            return logits, None\n",
    "\n",
    "        B, T, C = logits.shape\n",
    "        logits = logits.view(B * T, C)  # reshape to (B*T, C)\n",
    "        targets = targets.view(B * T) # targets.view(-1)\n",
    "        loss = F.cross_entropy(logits, targets)\n",
    "\n",
    "        return logits, loss\n",
    "    \n",
    "    def generate(self, idx, max_new_tokens):\n",
    "        for _ in range(max_new_tokens):\n",
    "            # idx is (B, T) -> (B, T+1), get the prediction for the next token\n",
    "            logits, loss = self(idx, None)  # forward pass\n",
    "            logits = logits[:, -1, :] # take the last time step -> (B, C)\n",
    "            probs = F.softmax(logits, dim=-1) # convert to probabilities\n",
    "            idx_next = torch.multinomial(probs, num_samples=1) # sample from the distribution -> (B, 1)\n",
    "            idx = torch.cat((idx,idx_next), dim=1)  # append the sampled token to the input sequence -> (B, T+1)\n",
    "        return idx\n",
    "    \n",
    "m = BigramLanguageModel(vocab_size)\n",
    "out, loss = m(xb,yb)\n",
    "print(\"Logits shape:\", out.shape)  # should be (batch_size, block_size\n",
    "print(\"Loss:\", loss)\n",
    "idx = torch.zeros((1, 1), dtype=torch.long)\n",
    "print(decode(m.generate(idx, max_new_tokens=100)[0].tolist()))  # generate 100 new tokens"
   ]
  },
  {
   "cell_type": "code",
   "execution_count": 38,
   "id": "4d164beb",
   "metadata": {},
   "outputs": [],
   "source": [
    "optimizer = torch.optim.AdamW(m.parameters(), lr=1e-3)"
   ]
  },
  {
   "cell_type": "code",
   "execution_count": 47,
   "id": "f61f7f6e",
   "metadata": {},
   "outputs": [
    {
     "name": "stdout",
     "output_type": "stream",
     "text": [
      "2.558009624481201\n"
     ]
    }
   ],
   "source": [
    "batch_size = 32\n",
    "for steps in range(10000):\n",
    "    xb, yb = get_batch('train')\n",
    "\n",
    "    logits, loss = m(xb, yb)\n",
    "    loss.backward()  # compute gradients\n",
    "    optimizer.step()  # update parameters\n",
    "    optimizer.zero_grad()  # reset gradients to zero\n",
    "\n",
    "print(loss.item())"
   ]
  },
  {
   "cell_type": "code",
   "execution_count": 50,
   "id": "1c17c2c1",
   "metadata": {},
   "outputs": [
    {
     "name": "stdout",
     "output_type": "stream",
     "text": [
      "\n",
      "WA y hathe, qun s;\n",
      "LO tond t, oullke CIARicousangh'dlke, y lorveloveninde searslly otharomeligse ang\n"
     ]
    }
   ],
   "source": [
    "idx = torch.zeros((1, 1), dtype=torch.long)\n",
    "print(decode(m.generate(idx, max_new_tokens=100)[0].tolist()))  # generate 100 new tokens"
   ]
  },
  {
   "cell_type": "markdown",
   "id": "02f9429f",
   "metadata": {},
   "source": [
    "The mathematical trick in self-attention"
   ]
  },
  {
   "cell_type": "code",
   "execution_count": 26,
   "id": "8c936784",
   "metadata": {},
   "outputs": [
    {
     "data": {
      "text/plain": [
       "torch.Size([4, 8, 2])"
      ]
     },
     "execution_count": 26,
     "metadata": {},
     "output_type": "execute_result"
    }
   ],
   "source": [
    "import torch\n",
    "\n",
    "torch.manual_seed(1337)  # for reproducibility\n",
    "B, T, C = 4, 8, 2\n",
    "x = torch.randn(B, T, C)  # random input tensor\n",
    "x.shape  # should be (B, T, C)"
   ]
  },
  {
   "cell_type": "code",
   "execution_count": 29,
   "id": "0def3d67",
   "metadata": {},
   "outputs": [
    {
     "data": {
      "text/plain": [
       "torch.Size([4, 8, 2])"
      ]
     },
     "execution_count": 29,
     "metadata": {},
     "output_type": "execute_result"
    }
   ],
   "source": [
    "# we wnat x[b,t] = mean_{i <= t} x[b,i]\n",
    "xbow = torch.zeros((B, T, C))  # output tensor, bow for \"bag of words\"\n",
    "for b in range(B):\n",
    "    for t in range(T):\n",
    "        xprev = x[b, :t+1]  # (t,C)\n",
    "        xbow[b,t] = torch.mean(xprev, dim=0)  # mean over the first dimension (time)\n",
    "xbow.shape  # should be (B, T, C)"
   ]
  },
  {
   "cell_type": "code",
   "execution_count": 33,
   "id": "b5c0d3b2",
   "metadata": {},
   "outputs": [
    {
     "name": "stdout",
     "output_type": "stream",
     "text": [
      "Weights matrix: tensor([[1.0000, 0.0000, 0.0000, 0.0000, 0.0000, 0.0000, 0.0000, 0.0000],\n",
      "        [0.5000, 0.5000, 0.0000, 0.0000, 0.0000, 0.0000, 0.0000, 0.0000],\n",
      "        [0.3333, 0.3333, 0.3333, 0.0000, 0.0000, 0.0000, 0.0000, 0.0000],\n",
      "        [0.2500, 0.2500, 0.2500, 0.2500, 0.0000, 0.0000, 0.0000, 0.0000],\n",
      "        [0.2000, 0.2000, 0.2000, 0.2000, 0.2000, 0.0000, 0.0000, 0.0000],\n",
      "        [0.1667, 0.1667, 0.1667, 0.1667, 0.1667, 0.1667, 0.0000, 0.0000],\n",
      "        [0.1429, 0.1429, 0.1429, 0.1429, 0.1429, 0.1429, 0.1429, 0.0000],\n",
      "        [0.1250, 0.1250, 0.1250, 0.1250, 0.1250, 0.1250, 0.1250, 0.1250]])\n",
      "torch.Size([4, 8, 2])\n"
     ]
    },
    {
     "data": {
      "text/plain": [
       "True"
      ]
     },
     "execution_count": 33,
     "metadata": {},
     "output_type": "execute_result"
    }
   ],
   "source": [
    "wei = torch.tril(torch.ones(T,T))\n",
    "wei = wei / wei.sum(1, keepdim=True)  # normalize each row to sum to 1 because we want to use it as weights\n",
    "print(\"Weights matrix:\", wei)\n",
    "xbow2 = wei @ x # (T,T) @ (B,T,C) -> (B,T,C)\n",
    "print(xbow2.shape)  # should be (B, T, C)\n",
    "torch.allclose(xbow, xbow2,atol=1e-6)  # should be True, both methods give the same result"
   ]
  },
  {
   "cell_type": "code",
   "execution_count": 37,
   "id": "39086cb6",
   "metadata": {},
   "outputs": [
    {
     "data": {
      "text/plain": [
       "True"
      ]
     },
     "execution_count": 37,
     "metadata": {},
     "output_type": "execute_result"
    }
   ],
   "source": [
    "import torch.nn.functional as F\n",
    "\n",
    "# version 3: use Softmax\n",
    "tril = torch.tril(torch.ones(T, T))\n",
    "wei = torch.zeros((T,T))\n",
    "wei = wei.masked_fill(tril == 0, float('-inf'))\n",
    "wei = F.softmax(wei, dim=-1)\n",
    "xbow3 = wei @ x\n",
    "torch.allclose(xbow, xbow3,atol=1e-6)\n"
   ]
  },
  {
   "cell_type": "code",
   "execution_count": 45,
   "id": "2354344d",
   "metadata": {},
   "outputs": [
    {
     "data": {
      "text/plain": [
       "torch.Size([4, 8, 16])"
      ]
     },
     "execution_count": 45,
     "metadata": {},
     "output_type": "execute_result"
    }
   ],
   "source": [
    "import torch.nn as nn\n",
    "\n",
    "# version 4: self-attention!\n",
    "torch.manual_seed(1337)\n",
    "B,T,C = 4,8,32 # batch, time, channels\n",
    "x = torch.randn(B,T,C)\n",
    "\n",
    "# let's see a single Head perform self-attention\n",
    "head_size = 16\n",
    "key = nn.Linear(C, head_size, bias=False) # key projection\n",
    "query = nn.Linear(C, head_size, bias=False) # query projection\n",
    "value = nn.Linear(C, head_size, bias=False) # value projection\n",
    "k = key(x)   # (B, T, 16)\n",
    "q = query(x) # (B, T, 16)\n",
    "wei =  q @ k.transpose(-2, -1) # (B, T, 16) @ (B, 16, T) ---> (B, T, T)\n",
    "\n",
    "tril = torch.tril(torch.ones(T, T))\n",
    "#wei = torch.zeros((T,T))\n",
    "wei = wei.masked_fill(tril == 0, float('-inf'))\n",
    "wei = F.softmax(wei, dim=-1)\n",
    "\n",
    "v = value(x)  # (B, T, 16)\n",
    "out = wei @ v  # (B, T, T) @ (B, T, C) ---> (B, T, C)\n",
    "#out = wei @ x  \n",
    "\n",
    "out.shape"
   ]
  },
  {
   "cell_type": "code",
   "execution_count": 47,
   "id": "027ed0ad",
   "metadata": {},
   "outputs": [],
   "source": [
    "k = torch.randn(B, T, head_size)  # random key tensor\n",
    "q = torch.randn(B, T, head_size)  # random query tensor\n",
    "wei = q @ k.transpose(-2, -1) * head_size**-0.5  # (B, T, C) @ (B, C, T) ---> (B, T, T)"
   ]
  },
  {
   "cell_type": "code",
   "execution_count": null,
   "id": "a8db3a7c",
   "metadata": {},
   "outputs": [],
   "source": []
  }
 ],
 "metadata": {
  "kernelspec": {
   "display_name": "base",
   "language": "python",
   "name": "python3"
  },
  "language_info": {
   "codemirror_mode": {
    "name": "ipython",
    "version": 3
   },
   "file_extension": ".py",
   "mimetype": "text/x-python",
   "name": "python",
   "nbconvert_exporter": "python",
   "pygments_lexer": "ipython3",
   "version": "3.12.7"
  }
 },
 "nbformat": 4,
 "nbformat_minor": 5
}
